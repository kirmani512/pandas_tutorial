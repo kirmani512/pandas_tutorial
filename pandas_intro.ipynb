{
 "cells": [
  {
   "cell_type": "markdown",
   "id": "1b4df115-c77c-446f-a928-22ef8767dafd",
   "metadata": {},
   "source": [
    "**Pandas Introduction**"
   ]
  },
  {
   "cell_type": "code",
   "execution_count": 1,
   "id": "fca3d04c-f1cd-4c78-97d5-5b7651d283a0",
   "metadata": {},
   "outputs": [],
   "source": [
    "import pandas as pd"
   ]
  },
  {
   "cell_type": "code",
   "execution_count": 2,
   "id": "1f41981f-a140-4c49-91f4-5a6939423778",
   "metadata": {},
   "outputs": [
    {
     "name": "stdout",
     "output_type": "stream",
     "text": [
      "2.3.2\n"
     ]
    }
   ],
   "source": [
    "print(pd.__version__)"
   ]
  },
  {
   "cell_type": "markdown",
   "id": "69eb1e37-2c36-4924-8134-e53d5e7a9711",
   "metadata": {},
   "source": [
    "**Pandas has two types of data structures**\n",
    "1-Series\n",
    "2-Dataframe"
   ]
  },
  {
   "cell_type": "code",
   "execution_count": 3,
   "id": "0340a68c-c03c-44b4-b651-86ddfd40bf2b",
   "metadata": {},
   "outputs": [],
   "source": [
    "s = pd.Series([10,2,3,4,5])"
   ]
  },
  {
   "cell_type": "code",
   "execution_count": 4,
   "id": "19070880-0d5c-4eb6-a96e-3686ce960a2e",
   "metadata": {},
   "outputs": [
    {
     "data": {
      "text/plain": [
       "0    10\n",
       "1     2\n",
       "2     3\n",
       "3     4\n",
       "4     5\n",
       "dtype: int64"
      ]
     },
     "execution_count": 4,
     "metadata": {},
     "output_type": "execute_result"
    }
   ],
   "source": [
    "s"
   ]
  },
  {
   "cell_type": "markdown",
   "id": "40f9cbb6-fea1-4bf7-8fe4-24b7203a54a5",
   "metadata": {},
   "source": [
    "**Series is a labeled array & list is an unlabeled array**"
   ]
  },
  {
   "cell_type": "markdown",
   "id": "1057d68b-9570-4443-a612-d848c76e7d71",
   "metadata": {},
   "source": [
    "*Here 0,1,2,3,4 are indexes and the other are their corresponding values*"
   ]
  },
  {
   "cell_type": "code",
   "execution_count": 8,
   "id": "0fad50bf-8949-4e65-bf90-38dda22a7da4",
   "metadata": {},
   "outputs": [],
   "source": [
    "s1 = pd.Series([10,2,3,4,5],index=['a','b','v','f','g'])"
   ]
  },
  {
   "cell_type": "code",
   "execution_count": 9,
   "id": "a6074602-79cf-4f6c-a7ec-9ac9ff751aff",
   "metadata": {},
   "outputs": [
    {
     "data": {
      "text/plain": [
       "a    10\n",
       "b     2\n",
       "v     3\n",
       "f     4\n",
       "g     5\n",
       "dtype: int64"
      ]
     },
     "execution_count": 9,
     "metadata": {},
     "output_type": "execute_result"
    }
   ],
   "source": [
    "s1"
   ]
  },
  {
   "cell_type": "code",
   "execution_count": 10,
   "id": "8520b134-67f0-45cb-8456-694afe217537",
   "metadata": {},
   "outputs": [],
   "source": [
    "df = pd.DataFrame({\"names\":[\"raza\",\"hassan\",\"ali\"],\"marks\":[100,300,400]})"
   ]
  },
  {
   "cell_type": "code",
   "execution_count": 11,
   "id": "a24dd79e-6d53-48fa-8e52-746a08470640",
   "metadata": {},
   "outputs": [
    {
     "data": {
      "text/html": [
       "<div>\n",
       "<style scoped>\n",
       "    .dataframe tbody tr th:only-of-type {\n",
       "        vertical-align: middle;\n",
       "    }\n",
       "\n",
       "    .dataframe tbody tr th {\n",
       "        vertical-align: top;\n",
       "    }\n",
       "\n",
       "    .dataframe thead th {\n",
       "        text-align: right;\n",
       "    }\n",
       "</style>\n",
       "<table border=\"1\" class=\"dataframe\">\n",
       "  <thead>\n",
       "    <tr style=\"text-align: right;\">\n",
       "      <th></th>\n",
       "      <th>names</th>\n",
       "      <th>marks</th>\n",
       "    </tr>\n",
       "  </thead>\n",
       "  <tbody>\n",
       "    <tr>\n",
       "      <th>0</th>\n",
       "      <td>raza</td>\n",
       "      <td>100</td>\n",
       "    </tr>\n",
       "    <tr>\n",
       "      <th>1</th>\n",
       "      <td>hassan</td>\n",
       "      <td>300</td>\n",
       "    </tr>\n",
       "    <tr>\n",
       "      <th>2</th>\n",
       "      <td>ali</td>\n",
       "      <td>400</td>\n",
       "    </tr>\n",
       "  </tbody>\n",
       "</table>\n",
       "</div>"
      ],
      "text/plain": [
       "    names  marks\n",
       "0    raza    100\n",
       "1  hassan    300\n",
       "2     ali    400"
      ]
     },
     "execution_count": 11,
     "metadata": {},
     "output_type": "execute_result"
    }
   ],
   "source": [
    "df"
   ]
  },
  {
   "cell_type": "code",
   "execution_count": null,
   "id": "b8ef330e-892c-4ef2-a463-59591aaf5fbb",
   "metadata": {},
   "outputs": [],
   "source": []
  }
 ],
 "metadata": {
  "kernelspec": {
   "display_name": "Python 3 (ipykernel)",
   "language": "python",
   "name": "python3"
  },
  "language_info": {
   "codemirror_mode": {
    "name": "ipython",
    "version": 3
   },
   "file_extension": ".py",
   "mimetype": "text/x-python",
   "name": "python",
   "nbconvert_exporter": "python",
   "pygments_lexer": "ipython3",
   "version": "3.12.8"
  }
 },
 "nbformat": 4,
 "nbformat_minor": 5
}
