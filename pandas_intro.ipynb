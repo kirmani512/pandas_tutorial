{
 "cells": [
  {
   "cell_type": "markdown",
   "id": "1b4df115-c77c-446f-a928-22ef8767dafd",
   "metadata": {},
   "source": [
    "**Pandas Introduction**"
   ]
  },
  {
   "cell_type": "code",
   "execution_count": 1,
   "id": "fca3d04c-f1cd-4c78-97d5-5b7651d283a0",
   "metadata": {},
   "outputs": [],
   "source": [
    "import pandas as pd"
   ]
  },
  {
   "cell_type": "code",
   "execution_count": 2,
   "id": "1f41981f-a140-4c49-91f4-5a6939423778",
   "metadata": {},
   "outputs": [
    {
     "name": "stdout",
     "output_type": "stream",
     "text": [
      "2.3.2\n"
     ]
    }
   ],
   "source": [
    "print(pd.__version__)"
   ]
  },
  {
   "cell_type": "code",
   "execution_count": null,
   "id": "558b835b-0dc2-46e6-8267-0b441e6d0773",
   "metadata": {},
   "outputs": [],
   "source": []
  }
 ],
 "metadata": {
  "kernelspec": {
   "display_name": "Python 3 (ipykernel)",
   "language": "python",
   "name": "python3"
  },
  "language_info": {
   "codemirror_mode": {
    "name": "ipython",
    "version": 3
   },
   "file_extension": ".py",
   "mimetype": "text/x-python",
   "name": "python",
   "nbconvert_exporter": "python",
   "pygments_lexer": "ipython3",
   "version": "3.10.18"
  }
 },
 "nbformat": 4,
 "nbformat_minor": 5
}
